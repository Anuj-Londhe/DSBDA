{
 "cells": [
  {
   "cell_type": "code",
   "execution_count": 1,
   "id": "81512a68-fa75-4076-aeed-0f4340b99083",
   "metadata": {},
   "outputs": [],
   "source": [
    "import pandas as pd\n",
    "import numpy as np\n",
    "import matplotlib.pyplot as plt\n",
    "import seaborn as se"
   ]
  },
  {
   "cell_type": "code",
   "execution_count": 39,
   "id": "6935ba9f-1051-4fc9-b193-9c40f02c750f",
   "metadata": {},
   "outputs": [],
   "source": [
    "import nltk\n",
    "import re\n",
    "from nltk.tokenize import sent_tokenize\n",
    "from nltk.tokenize import word_tokenize\n",
    "from nltk.corpus import stopwords\n",
    "from nltk.stem import PorterStemmer\n",
    "from nltk.stem import WordNetLemmatizer\n",
    "from nltk.tokenize import word_tokenize"
   ]
  },
  {
   "cell_type": "code",
   "execution_count": 51,
   "id": "371f9e73-d5d8-41aa-91db-e8a8ca174352",
   "metadata": {},
   "outputs": [
    {
     "name": "stderr",
     "output_type": "stream",
     "text": [
      "[nltk_data] Downloading package punkt to\n",
      "[nltk_data]     C:\\Users\\Acer\\AppData\\Roaming\\nltk_data...\n",
      "[nltk_data]   Package punkt is already up-to-date!\n",
      "[nltk_data] Downloading package stopwords to\n",
      "[nltk_data]     C:\\Users\\Acer\\AppData\\Roaming\\nltk_data...\n",
      "[nltk_data]   Package stopwords is already up-to-date!\n",
      "[nltk_data] Downloading package wordnet to\n",
      "[nltk_data]     C:\\Users\\Acer\\AppData\\Roaming\\nltk_data...\n",
      "[nltk_data]   Package wordnet is already up-to-date!\n",
      "[nltk_data] Downloading package averaged_perceptron_tagger to\n",
      "[nltk_data]     C:\\Users\\Acer\\AppData\\Roaming\\nltk_data...\n",
      "[nltk_data]   Unzipping taggers\\averaged_perceptron_tagger.zip.\n"
     ]
    },
    {
     "data": {
      "text/plain": [
       "True"
      ]
     },
     "execution_count": 51,
     "metadata": {},
     "output_type": "execute_result"
    }
   ],
   "source": [
    "nltk.download('punkt')\n",
    "nltk.download('stopwords')\n",
    "nltk.download('wordnet')\n",
    "nltk.download('averaged_perceptron_tagger')"
   ]
  },
  {
   "cell_type": "code",
   "execution_count": 52,
   "id": "21b2593d-e9b4-4617-b072-4260ba95e5b1",
   "metadata": {},
   "outputs": [],
   "source": [
    "text = \"Tokenization is the first step in text analytics.\""
   ]
  },
  {
   "cell_type": "code",
   "execution_count": 53,
   "id": "930ec444-30dc-4ed8-a4da-eb75af62ae43",
   "metadata": {},
   "outputs": [
    {
     "name": "stdout",
     "output_type": "stream",
     "text": [
      "['Tokenization is the first step in text analytics.']\n",
      "['Tokenization', 'is', 'the', 'first', 'step', 'in', 'text', 'analytics', '.']\n"
     ]
    }
   ],
   "source": [
    "tokenized_text = sent_tokenize(text)\n",
    "print(tokenized_text)\n",
    "tokenized_word = word_tokenize(text)\n",
    "print(tokenized_word)"
   ]
  },
  {
   "cell_type": "code",
   "execution_count": 54,
   "id": "ce5f8a1a-d16f-4873-af98-0bab71e60289",
   "metadata": {},
   "outputs": [
    {
     "name": "stdout",
     "output_type": "stream",
     "text": [
      "{\"weren't\", 'each', 'it', 'whom', 'against', 'needn', \"mustn't\", 'its', 'our', 'can', 'about', 'under', \"that'll\", 'having', 'any', 'd', 'shouldn', 'how', 'herself', 'if', 'through', 'more', 'y', 'until', \"should've\", 'you', 'what', 'that', 'isn', 'after', 'just', 'is', 'hadn', \"wasn't\", 'hers', 'weren', 'which', 'have', 'all', 's', 'those', 'o', 'into', \"hasn't\", 'there', \"you'll\", 'with', 'on', 'mustn', 'won', 'most', 'did', 'and', 'themselves', 'then', 'nor', 'of', 've', 'such', 'm', 'don', 'wasn', 'was', 'theirs', 'so', 'had', \"mightn't\", \"aren't\", 'up', 'above', 'ours', 'again', 'here', 'ma', 'who', 'to', 'their', 'himself', \"you've\", \"haven't\", \"you're\", 'didn', \"isn't\", 'few', 'during', 'while', 'than', 'we', 'at', 'has', 'an', 'hasn', \"couldn't\", 'same', 'your', 'where', 'once', 'be', 'll', \"doesn't\", 'no', 'yourselves', 'does', 'between', 'or', 're', 'they', 'wouldn', 'not', 'doing', \"you'd\", 'mightn', \"shouldn't\", 'a', 'ourselves', \"she's\", 'only', 't', 'couldn', 'him', 'aren', 'some', 'but', 'yours', 'his', \"it's\", 'own', 'over', 'for', 'her', \"hadn't\", 'out', 'by', \"needn't\", 'are', \"wouldn't\", 'from', 'as', 'further', 'myself', 'yourself', 'both', 'below', \"didn't\", 'me', 'itself', 'when', \"shan't\", 'were', 'now', 'this', 'the', 'being', 'i', 'haven', 'why', 'shan', 'been', 'should', 'before', 'will', 'them', 'down', 'doesn', 'other', 'ain', 'very', 'do', 'too', \"don't\", 'he', 'these', 'because', 'she', 'in', \"won't\", 'am', 'off', 'my'}\n"
     ]
    }
   ],
   "source": [
    "stop_word = set(stopwords.words('english'))\n",
    "print(stop_word)"
   ]
  },
  {
   "cell_type": "code",
   "execution_count": 55,
   "id": "526d4143-df52-48e1-b7db-be02c81468d0",
   "metadata": {},
   "outputs": [],
   "source": [
    "# Parameters:\n",
    "# pattern – the pattern which is to be searched and substituted\n",
    "# repl – the string with which the pattern is to be replaced\n",
    "# string – the name of the variable in which the pattern is stored\n",
    "# count – number of characters up to which substitution will be performed\n",
    "# flags – it is used to modify the meaning of the regex pattern\n",
    "\n",
    "# count and flags are optional arguments."
   ]
  },
  {
   "cell_type": "code",
   "execution_count": 56,
   "id": "0aa271b2-93c3-4c02-8027-0eb089da216e",
   "metadata": {},
   "outputs": [
    {
     "data": {
      "text/plain": [
       "['remove', 'stop', 'words', 'nltk', 'library', 'python']"
      ]
     },
     "execution_count": 56,
     "metadata": {},
     "output_type": "execute_result"
    }
   ],
   "source": [
    "text = \"how to remove stop words with NLTK library in Python?\"\n",
    "text = re.sub('[^a-zA-Z]', ' ', text)\n",
    "tokens = word_tokenize(text.lower())\n",
    "# print(tokens)\n",
    "filtered_text = []\n",
    "for w in tokens:\n",
    "    if w not in stop_word:\n",
    "        filtered_text.append(w)\n",
    "filtered_text"
   ]
  },
  {
   "cell_type": "code",
   "execution_count": 57,
   "id": "4752743f-195b-4204-9128-a0971de20d44",
   "metadata": {},
   "outputs": [
    {
     "name": "stdout",
     "output_type": "stream",
     "text": [
      "wait\n"
     ]
    }
   ],
   "source": [
    "e_words=[\"wait\", \"waiting\", \"waited\", \"waits\"]\n",
    "ps = PorterStemmer()\n",
    "for w in e_words:\n",
    "    rootWord = ps.stem(w)\n",
    "print(rootWord)"
   ]
  },
  {
   "cell_type": "code",
   "execution_count": 58,
   "id": "45e39791-6ac4-43c1-856c-01d56c1b15ed",
   "metadata": {},
   "outputs": [
    {
     "name": "stdout",
     "output_type": "stream",
     "text": [
      "Lemma for studies is study\n",
      "Lemma for studying is studying\n",
      "Lemma for cries is cry\n",
      "Lemma for cry is cry\n"
     ]
    }
   ],
   "source": [
    "wordnet_lemmatizer = WordNetLemmatizer()\n",
    "text = \"studies studying cries cry\"\n",
    "tokenization = nltk.word_tokenize(text)\n",
    "# tokenization\n",
    "for w in tokenization:\n",
    "    print(\"Lemma for {} is {}\".format(w, wordnet_lemmatizer.lemmatize(w)))"
   ]
  },
  {
   "cell_type": "code",
   "execution_count": 59,
   "id": "8a16feba-a7e9-4c64-8816-6115f1a0c907",
   "metadata": {},
   "outputs": [
    {
     "name": "stdout",
     "output_type": "stream",
     "text": [
      "[('The', 'DT')]\n",
      "[('pink', 'NN')]\n",
      "[('sweater', 'NN')]\n",
      "[('fit', 'NN')]\n",
      "[('her', 'PRP$')]\n",
      "[('perfectly', 'RB')]\n"
     ]
    }
   ],
   "source": [
    "data = \"The pink sweater fit her perfectly\"\n",
    "words = word_tokenize(data)\n",
    "for w in words:\n",
    "    print(nltk.pos_tag([w]))"
   ]
  },
  {
   "cell_type": "code",
   "execution_count": 68,
   "id": "4ec298e0-6e97-455f-9fed-3204089940eb",
   "metadata": {},
   "outputs": [],
   "source": [
    "import pandas as pd\n",
    "# !pip install scikit-learn==0.13\n",
    "from sklearn.feature_extraction.text import TfidfVectorizer\n",
    "import math"
   ]
  },
  {
   "cell_type": "code",
   "execution_count": 75,
   "id": "9819194d-de12-469a-a79e-2170a90de52b",
   "metadata": {},
   "outputs": [
    {
     "data": {
      "text/plain": [
       "{'Mars': 0,\n",
       " 'Jupiter': 1,\n",
       " 'planet': 0,\n",
       " 'is': 1,\n",
       " 'largest': 1,\n",
       " 'from': 0,\n",
       " 'fourth': 0,\n",
       " 'Planet': 1,\n",
       " 'Sun': 0,\n",
       " 'the': 1}"
      ]
     },
     "execution_count": 75,
     "metadata": {},
     "output_type": "execute_result"
    }
   ],
   "source": [
    "documentA = 'Jupiter is the largest Planet'\n",
    "documentB = 'Mars is the fourth planet from the Sun'\n",
    "bagOfWordsA = documentA.split(' ')\n",
    "# bagOfWordsA\n",
    "bagOfWordsB = documentB.split(' ')\n",
    "# bagOfWordsB\n",
    "uniqueWords = set(bagOfWordsA).union(set(bagOfWordsB))\n",
    "# uniqueWords\n",
    "numOfWordsA = dict.fromkeys(uniqueWords, 0)\n",
    "# numOfWordsA\n",
    "# # uniqueWords\n",
    "# numOfWordsA\n",
    "for word in bagOfWordsA:\n",
    "    numOfWordsA[word] += 1\n",
    "    numOfWordsB = dict.fromkeys(uniqueWords, 0)\n",
    "# numOfWordsA"
   ]
  },
  {
   "cell_type": "code",
   "execution_count": 76,
   "id": "aa092401-7d78-4df5-b2b8-9d2ddb4230ac",
   "metadata": {},
   "outputs": [
    {
     "data": {
      "text/plain": [
       "['Mars', 'is', 'the', 'fourth', 'planet', 'from', 'the', 'Sun']"
      ]
     },
     "execution_count": 76,
     "metadata": {},
     "output_type": "execute_result"
    }
   ],
   "source": [
    "for w in bagOfWordsB:\n",
    "    numOfWordsB[w]+=1\n",
    "# bagOfWordsB"
   ]
  },
  {
   "cell_type": "code",
   "execution_count": 81,
   "id": "78118aeb-4dd9-4893-b13d-0b0b9edfb337",
   "metadata": {},
   "outputs": [
    {
     "data": {
      "text/plain": [
       "{'Mars': 0.125,\n",
       " 'Jupiter': 0.0,\n",
       " 'planet': 0.125,\n",
       " 'is': 0.125,\n",
       " 'largest': 0.0,\n",
       " 'from': 0.125,\n",
       " 'fourth': 0.125,\n",
       " 'Planet': 0.0,\n",
       " 'Sun': 0.125,\n",
       " 'the': 0.25}"
      ]
     },
     "execution_count": 81,
     "metadata": {},
     "output_type": "execute_result"
    }
   ],
   "source": [
    "def computeTF(wordDict, bagOfWords):\n",
    "    tfDict = {}\n",
    "    bagOfWordsCount = len(bagOfWords)\n",
    "    for word, count in wordDict.items():\n",
    "        tfDict[word] = count / float(bagOfWordsCount)\n",
    "    return tfDict\n",
    "tfA = computeTF(numOfWordsA, bagOfWordsA)\n",
    "tfB = computeTF(numOfWordsB, bagOfWordsB)\n",
    "# tfA\n",
    "# tfB"
   ]
  },
  {
   "cell_type": "code",
   "execution_count": 84,
   "id": "3ea1af7c-1fef-4647-9a43-0a8fc7b71dc5",
   "metadata": {},
   "outputs": [
    {
     "data": {
      "text/plain": [
       "{'Mars': 0.6931471805599453,\n",
       " 'Jupiter': 0.6931471805599453,\n",
       " 'planet': 0.6931471805599453,\n",
       " 'is': 0.0,\n",
       " 'largest': 0.6931471805599453,\n",
       " 'from': 0.6931471805599453,\n",
       " 'fourth': 0.6931471805599453,\n",
       " 'Planet': 0.6931471805599453,\n",
       " 'Sun': 0.6931471805599453,\n",
       " 'the': 0.0}"
      ]
     },
     "execution_count": 84,
     "metadata": {},
     "output_type": "execute_result"
    }
   ],
   "source": [
    "def computeIDF(documents):\n",
    "    N = len(documents)\n",
    "    idfDict = dict.fromkeys(documents[0].keys(), 0)\n",
    "    for document in documents:\n",
    "        for word, val in document.items():\n",
    "            if val>0:\n",
    "                idfDict[word] += 1\n",
    "    for word, val in idfDict.items():\n",
    "        idfDict[word] = math.log(N / float(val))\n",
    "    return idfDict\n",
    "idfs = computeIDF([numOfWordsA, numOfWordsB])\n",
    "idfs"
   ]
  },
  {
   "cell_type": "code",
   "execution_count": 86,
   "id": "11af6ce2-5555-410d-a1ed-5c1f013c330b",
   "metadata": {},
   "outputs": [
    {
     "data": {
      "text/html": [
       "<div>\n",
       "<style scoped>\n",
       "    .dataframe tbody tr th:only-of-type {\n",
       "        vertical-align: middle;\n",
       "    }\n",
       "\n",
       "    .dataframe tbody tr th {\n",
       "        vertical-align: top;\n",
       "    }\n",
       "\n",
       "    .dataframe thead th {\n",
       "        text-align: right;\n",
       "    }\n",
       "</style>\n",
       "<table border=\"1\" class=\"dataframe\">\n",
       "  <thead>\n",
       "    <tr style=\"text-align: right;\">\n",
       "      <th></th>\n",
       "      <th>Mars</th>\n",
       "      <th>Jupiter</th>\n",
       "      <th>planet</th>\n",
       "      <th>is</th>\n",
       "      <th>largest</th>\n",
       "      <th>from</th>\n",
       "      <th>fourth</th>\n",
       "      <th>Planet</th>\n",
       "      <th>Sun</th>\n",
       "      <th>the</th>\n",
       "    </tr>\n",
       "  </thead>\n",
       "  <tbody>\n",
       "    <tr>\n",
       "      <th>0</th>\n",
       "      <td>0.000000</td>\n",
       "      <td>0.138629</td>\n",
       "      <td>0.000000</td>\n",
       "      <td>0.0</td>\n",
       "      <td>0.138629</td>\n",
       "      <td>0.000000</td>\n",
       "      <td>0.000000</td>\n",
       "      <td>0.138629</td>\n",
       "      <td>0.000000</td>\n",
       "      <td>0.0</td>\n",
       "    </tr>\n",
       "    <tr>\n",
       "      <th>1</th>\n",
       "      <td>0.086643</td>\n",
       "      <td>0.000000</td>\n",
       "      <td>0.086643</td>\n",
       "      <td>0.0</td>\n",
       "      <td>0.000000</td>\n",
       "      <td>0.086643</td>\n",
       "      <td>0.086643</td>\n",
       "      <td>0.000000</td>\n",
       "      <td>0.086643</td>\n",
       "      <td>0.0</td>\n",
       "    </tr>\n",
       "  </tbody>\n",
       "</table>\n",
       "</div>"
      ],
      "text/plain": [
       "       Mars   Jupiter    planet   is   largest      from    fourth    Planet  \\\n",
       "0  0.000000  0.138629  0.000000  0.0  0.138629  0.000000  0.000000  0.138629   \n",
       "1  0.086643  0.000000  0.086643  0.0  0.000000  0.086643  0.086643  0.000000   \n",
       "\n",
       "        Sun  the  \n",
       "0  0.000000  0.0  \n",
       "1  0.086643  0.0  "
      ]
     },
     "execution_count": 86,
     "metadata": {},
     "output_type": "execute_result"
    }
   ],
   "source": [
    "def computeTFIDF(tfBagOfWords, idfs):\n",
    "    tfidf = {}\n",
    "    for word, val in tfBagOfWords.items():\n",
    "        tfidf[word] = val * idfs[word]\n",
    "    return tfidf\n",
    "tfidfA = computeTFIDF(tfA, idfs)\n",
    "tfidfB = computeTFIDF(tfB, idfs)\n",
    "df = pd.DataFrame([tfidfA, tfidfB])\n",
    "df"
   ]
  },
  {
   "cell_type": "code",
   "execution_count": null,
   "id": "b50d6b4c-8894-4ab0-a87c-549fa101f81f",
   "metadata": {},
   "outputs": [],
   "source": []
  }
 ],
 "metadata": {
  "kernelspec": {
   "display_name": "Python 3 (ipykernel)",
   "language": "python",
   "name": "python3"
  },
  "language_info": {
   "codemirror_mode": {
    "name": "ipython",
    "version": 3
   },
   "file_extension": ".py",
   "mimetype": "text/x-python",
   "name": "python",
   "nbconvert_exporter": "python",
   "pygments_lexer": "ipython3",
   "version": "3.12.1"
  }
 },
 "nbformat": 4,
 "nbformat_minor": 5
}
