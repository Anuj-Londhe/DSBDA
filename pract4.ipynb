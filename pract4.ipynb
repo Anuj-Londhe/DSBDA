{
 "cells": [
  {
   "cell_type": "code",
   "execution_count": 1,
   "id": "c7a2467a-085a-4731-b413-9432f73e2468",
   "metadata": {},
   "outputs": [],
   "source": [
    "import pandas as pd\n",
    "import numpy as np\n",
    "import matplotlib.pyplot as plt\n",
    "import seaborn as se"
   ]
  },
  {
   "cell_type": "code",
   "execution_count": 2,
   "id": "98c7c004-7db9-449a-94d3-f65c84cf10f3",
   "metadata": {},
   "outputs": [],
   "source": [
    "x = np.array([95, 85, 80, 70, 60])\n",
    "y = np.array([85, 95, 70, 65, 70])"
   ]
  },
  {
   "cell_type": "code",
   "execution_count": 27,
   "id": "d85b6ff4-74e6-4050-8041-ef5ffa3fe397",
   "metadata": {},
   "outputs": [
    {
     "data": {
      "text/plain": [
       "array([ 0.64383562, 26.78082192])"
      ]
     },
     "execution_count": 27,
     "metadata": {},
     "output_type": "execute_result"
    }
   ],
   "source": [
    "# Polynomial Function\n",
    "model = np.polyfit(x, y, 1)\n",
    "model"
   ]
  },
  {
   "cell_type": "code",
   "execution_count": 30,
   "id": "252b7d86-30f3-4e7a-938a-ac8f6c5a813b",
   "metadata": {},
   "outputs": [
    {
     "data": {
      "image/png": "[encoded data removed]",
      "text/plain": [
       "<Figure size 640x480 with 1 Axes>"
      ]
     },
     "metadata": {},
     "output_type": "display_data"
    }
   ],
   "source": [
    "# lets visualize using scatter plot\n",
    "plt.scatter(x, y, c='red')\n",
    "plt.show()"
   ]
  },
  {
   "cell_type": "code",
   "execution_count": 31,
   "id": "e0509714-58f9-4301-98ac-75e55c2883cc",
   "metadata": {},
   "outputs": [
    {
     "name": "stdout",
     "output_type": "stream",
     "text": [
      " \n",
      "0.6438 x + 26.78\n"
     ]
    }
   ],
   "source": [
    "# poly1d: gives function\n",
    "result = np.poly1d(model)\n",
    "print(result)"
   ]
  },
  {
   "cell_type": "code",
   "execution_count": 35,
   "id": "35eac42c-0673-4edb-88d8-1af7960a80c2",
   "metadata": {},
   "outputs": [
    {
     "data": {
      "text/plain": [
       "65.41095890410958"
      ]
     },
     "execution_count": 35,
     "metadata": {},
     "output_type": "execute_result"
    }
   ],
   "source": [
    "predict = np.poly1d(model)\n",
    "predict(60)\n",
    "# 0.6438 * 60 + 26.78 = 65.41095890410958"
   ]
  },
  {
   "cell_type": "code",
   "execution_count": 36,
   "id": "92f7a48c-3a74-4705-9d46-50503982f433",
   "metadata": {},
   "outputs": [
    {
     "data": {
      "text/plain": [
       "array([87.94520548, 81.50684932, 78.28767123, 71.84931507, 65.4109589 ])"
      ]
     },
     "execution_count": 36,
     "metadata": {},
     "output_type": "execute_result"
    }
   ],
   "source": [
    "y_pred = predict(x)\n",
    "y_pred"
   ]
  },
  {
   "cell_type": "code",
   "execution_count": 37,
   "id": "15718f49-affd-4fab-a843-d67602df3825",
   "metadata": {},
   "outputs": [],
   "source": [
    "from sklearn.metrics import r2_score"
   ]
  },
  {
   "cell_type": "code",
   "execution_count": 40,
   "id": "9e901384-379f-40c9-9c19-2bfe0def5656",
   "metadata": {},
   "outputs": [
    {
     "data": {
      "text/plain": [
       "0.4803218090889324"
      ]
     },
     "execution_count": 40,
     "metadata": {},
     "output_type": "execute_result"
    }
   ],
   "source": [
    "r2_score(y, y_pred)"
   ]
  },
  {
   "cell_type": "code",
   "execution_count": 47,
   "id": "071f9298-49d2-4e34-aa8e-4c30b3be2494",
   "metadata": {},
   "outputs": [
    {
     "data": {
      "image/png": "[encoded data removed]",
      "text/plain": [
       "<Figure size 640x480 with 1 Axes>"
      ]
     },
     "metadata": {},
     "output_type": "display_data"
    }
   ],
   "source": [
    "y_line = model[1]+model[0]*x\n",
    "plt.plot(x, y_line, c='r')\n",
    "plt.scatter(x, y_pred)\n",
    "plt.scatter(x, y, c='r')\n",
    "plt.show()"
   ]
  },
  {
   "cell_type": "code",
   "execution_count": null,
   "id": "0fc7112a-8a12-47bc-aba3-3fe47d967b53",
   "metadata": {},
   "outputs": [],
   "source": []
  },
  {
   "cell_type": "code",
   "execution_count": 49,
   "id": "e7fff48a-7334-4ce0-8c4b-479067114cef",
   "metadata": {},
   "outputs": [],
   "source": [
    "data = pd.read_csv('Boston.csv')"
   ]
  },
  {
   "cell_type": "code",
   "execution_count": 50,
   "id": "23666c33-f360-4364-8035-4ed4b58a333c",
   "metadata": {},
   "outputs": [
    {
     "data": {
      "text/html": [
       "<div>\n",
       "<style scoped>\n",
       "    .dataframe tbody tr th:only-of-type {\n",
       "        vertical-align: middle;\n",
       "    }\n",
       "\n",
       "    .dataframe tbody tr th {\n",
       "        vertical-align: top;\n",
       "    }\n",
       "\n",
       "    .dataframe thead th {\n",
       "        text-align: right;\n",
       "    }\n",
       "</style>\n",
       "<table border=\"1\" class=\"dataframe\">\n",
       "  <thead>\n",
       "    <tr style=\"text-align: right;\">\n",
       "      <th></th>\n",
       "      <th>Unnamed: 0</th>\n",
       "      <th>crim</th>\n",
       "      <th>zn</th>\n",
       "      <th>indus</th>\n",
       "      <th>chas</th>\n",
       "      <th>nox</th>\n",
       "      <th>rm</th>\n",
       "      <th>age</th>\n",
       "      <th>dis</th>\n",
       "      <th>rad</th>\n",
       "      <th>tax</th>\n",
       "      <th>ptratio</th>\n",
       "      <th>black</th>\n",
       "      <th>lstat</th>\n",
       "      <th>medv</th>\n",
       "    </tr>\n",
       "  </thead>\n",
       "  <tbody>\n",
       "    <tr>\n",
       "      <th>0</th>\n",
       "      <td>1</td>\n",
       "      <td>0.00632</td>\n",
       "      <td>18.0</td>\n",
       "      <td>2.31</td>\n",
       "      <td>0</td>\n",
       "      <td>0.538</td>\n",
       "      <td>6.575</td>\n",
       "      <td>65.2</td>\n",
       "      <td>4.0900</td>\n",
       "      <td>1</td>\n",
       "      <td>296</td>\n",
       "      <td>15.3</td>\n",
       "      <td>396.90</td>\n",
       "      <td>4.98</td>\n",
       "      <td>24.0</td>\n",
       "    </tr>\n",
       "    <tr>\n",
       "      <th>1</th>\n",
       "      <td>2</td>\n",
       "      <td>0.02731</td>\n",
       "      <td>0.0</td>\n",
       "      <td>7.07</td>\n",
       "      <td>0</td>\n",
       "      <td>0.469</td>\n",
       "      <td>6.421</td>\n",
       "      <td>78.9</td>\n",
       "      <td>4.9671</td>\n",
       "      <td>2</td>\n",
       "      <td>242</td>\n",
       "      <td>17.8</td>\n",
       "      <td>396.90</td>\n",
       "      <td>9.14</td>\n",
       "      <td>21.6</td>\n",
       "    </tr>\n",
       "    <tr>\n",
       "      <th>2</th>\n",
       "      <td>3</td>\n",
       "      <td>0.02729</td>\n",
       "      <td>0.0</td>\n",
       "      <td>7.07</td>\n",
       "      <td>0</td>\n",
       "      <td>0.469</td>\n",
       "      <td>7.185</td>\n",
       "      <td>61.1</td>\n",
       "      <td>4.9671</td>\n",
       "      <td>2</td>\n",
       "      <td>242</td>\n",
       "      <td>17.8</td>\n",
       "      <td>392.83</td>\n",
       "      <td>4.03</td>\n",
       "      <td>34.7</td>\n",
       "    </tr>\n",
       "    <tr>\n",
       "      <th>3</th>\n",
       "      <td>4</td>\n",
       "      <td>0.03237</td>\n",
       "      <td>0.0</td>\n",
       "      <td>2.18</td>\n",
       "      <td>0</td>\n",
       "      <td>0.458</td>\n",
       "      <td>6.998</td>\n",
       "      <td>45.8</td>\n",
       "      <td>6.0622</td>\n",
       "      <td>3</td>\n",
       "      <td>222</td>\n",
       "      <td>18.7</td>\n",
       "      <td>394.63</td>\n",
       "      <td>2.94</td>\n",
       "      <td>33.4</td>\n",
       "    </tr>\n",
       "    <tr>\n",
       "      <th>4</th>\n",
       "      <td>5</td>\n",
       "      <td>0.06905</td>\n",
       "      <td>0.0</td>\n",
       "      <td>2.18</td>\n",
       "      <td>0</td>\n",
       "      <td>0.458</td>\n",
       "      <td>7.147</td>\n",
       "      <td>54.2</td>\n",
       "      <td>6.0622</td>\n",
       "      <td>3</td>\n",
       "      <td>222</td>\n",
       "      <td>18.7</td>\n",
       "      <td>396.90</td>\n",
       "      <td>5.33</td>\n",
       "      <td>36.2</td>\n",
       "    </tr>\n",
       "  </tbody>\n",
       "</table>\n",
       "</div>"
      ],
      "text/plain": [
       "   Unnamed: 0     crim    zn  indus  chas    nox     rm   age     dis  rad  \\\n",
       "0           1  0.00632  18.0   2.31     0  0.538  6.575  65.2  4.0900    1   \n",
       "1           2  0.02731   0.0   7.07     0  0.469  6.421  78.9  4.9671    2   \n",
       "2           3  0.02729   0.0   7.07     0  0.469  7.185  61.1  4.9671    2   \n",
       "3           4  0.03237   0.0   2.18     0  0.458  6.998  45.8  6.0622    3   \n",
       "4           5  0.06905   0.0   2.18     0  0.458  7.147  54.2  6.0622    3   \n",
       "\n",
       "   tax  ptratio   black  lstat  medv  \n",
       "0  296     15.3  396.90   4.98  24.0  \n",
       "1  242     17.8  396.90   9.14  21.6  \n",
       "2  242     17.8  392.83   4.03  34.7  \n",
       "3  222     18.7  394.63   2.94  33.4  \n",
       "4  222     18.7  396.90   5.33  36.2  "
      ]
     },
     "execution_count": 50,
     "metadata": {},
     "output_type": "execute_result"
    }
   ],
   "source": [
    "data.head(5)"
   ]
  },
  {
   "cell_type": "code",
   "execution_count": 51,
   "id": "472410d2-3229-4dd5-809e-08a43dd3a420",
   "metadata": {},
   "outputs": [
    {
     "data": {
      "text/plain": [
       "0      0.00632\n",
       "1      0.02731\n",
       "2      0.02729\n",
       "3      0.03237\n",
       "4      0.06905\n",
       "        ...   \n",
       "501    0.06263\n",
       "502    0.04527\n",
       "503    0.06076\n",
       "504    0.10959\n",
       "505    0.04741\n",
       "Name: crim, Length: 506, dtype: float64"
      ]
     },
     "execution_count": 51,
     "metadata": {},
     "output_type": "execute_result"
    }
   ],
   "source": [
    "data['crim']"
   ]
  },
  {
   "cell_type": "code",
   "execution_count": 52,
   "id": "5e73612d-51c9-49af-be18-152439137908",
   "metadata": {},
   "outputs": [
    {
     "data": {
      "text/plain": [
       "Unnamed: 0    0\n",
       "crim          0\n",
       "zn            0\n",
       "indus         0\n",
       "chas          0\n",
       "nox           0\n",
       "rm            0\n",
       "age           0\n",
       "dis           0\n",
       "rad           0\n",
       "tax           0\n",
       "ptratio       0\n",
       "black         0\n",
       "lstat         0\n",
       "medv          0\n",
       "dtype: int64"
      ]
     },
     "execution_count": 52,
     "metadata": {},
     "output_type": "execute_result"
    }
   ],
   "source": [
    "data.isnull().sum()"
   ]
  },
  {
   "cell_type": "code",
   "execution_count": 55,
   "id": "9bd5d244-b0b6-4b8b-90ca-1be236b9f4bc",
   "metadata": {},
   "outputs": [
    {
     "data": {
      "text/plain": [
       "0      0.00632\n",
       "1      0.02731\n",
       "2      0.02729\n",
       "3      0.03237\n",
       "4      0.06905\n",
       "        ...   \n",
       "501    0.06263\n",
       "502    0.04527\n",
       "503    0.06076\n",
       "504    0.10959\n",
       "505    0.04741\n",
       "Name: crim, Length: 506, dtype: float64"
      ]
     },
     "execution_count": 55,
     "metadata": {},
     "output_type": "execute_result"
    }
   ],
   "source": [
    "x = data.drop(['crim'], axis=1)\n",
    "y = data['crim']\n",
    "# x\n",
    "y"
   ]
  },
  {
   "cell_type": "code",
   "execution_count": 61,
   "id": "cf603aa5-6380-4d78-901f-e7774bf9d40a",
   "metadata": {},
   "outputs": [
    {
     "data": {
      "text/plain": [
       "436    14.42080\n",
       "473     4.64689\n",
       "158     1.34284\n",
       "378    23.64820\n",
       "321     0.18159\n",
       "         ...   \n",
       "123     0.15038\n",
       "187     0.07875\n",
       "372     8.26725\n",
       "433     5.58107\n",
       "364     3.47428\n",
       "Name: crim, Length: 102, dtype: float64"
      ]
     },
     "execution_count": 61,
     "metadata": {},
     "output_type": "execute_result"
    }
   ],
   "source": [
    "from sklearn.model_selection import train_test_split\n",
    "xtrain, xtest, ytrain, ytest = train_test_split(x, y, test_size=0.2)\n",
    "# xtrain\n",
    "# ytrain\n",
    "# xtest\n",
    "# ytest"
   ]
  },
  {
   "cell_type": "code",
   "execution_count": 63,
   "id": "9e849a38-4e4c-4afc-93ae-51a2d3823a86",
   "metadata": {},
   "outputs": [],
   "source": [
    "import sklearn\n",
    "from sklearn.linear_model import LinearRegression\n",
    "lm = LinearRegression()\n",
    "model = lm.fit(xtrain, ytrain)"
   ]
  },
  {
   "cell_type": "code",
   "execution_count": 67,
   "id": "192b1c5a-04a4-4f1c-ae3d-8047ab1ef3eb",
   "metadata": {},
   "outputs": [
    {
     "data": {
      "text/plain": [
       "array([ 1.68504187e+01,  9.92340386e+00,  4.82248827e-01,  1.55428933e+01,\n",
       "       -6.53723063e-01,  1.42501704e+01,  1.05299828e+00,  1.68983842e+00,\n",
       "       -3.19136447e-01,  2.87239155e+00,  5.40988507e-01,  2.01010659e+00,\n",
       "       -4.18979967e-01,  9.64031641e+00, -6.62334600e-01,  1.76664918e+01,\n",
       "       -9.44837857e-01,  4.32612336e-01, -1.94707096e-01,  1.35452725e+00,\n",
       "       -4.76760188e+00,  1.34026842e+01,  1.41439305e+00,  1.25752687e+00,\n",
       "        1.50965041e+01, -2.69147519e+00, -1.48604542e-02,  1.32182452e+01,\n",
       "        2.31181960e+00, -2.58641250e+00,  2.01576012e+01,  8.22787370e-01,\n",
       "        1.20657190e+01,  1.72543045e+00, -6.13080473e-01,  1.35776997e+01,\n",
       "       -3.16377496e+00,  3.32577153e+00,  1.69106013e+01,  1.10529471e+00,\n",
       "        1.42576010e+01,  2.89803574e+00,  2.30707285e+00,  4.36797480e-02,\n",
       "       -3.55507256e+00,  2.94031384e+00,  1.26363462e+00,  1.54575372e+00,\n",
       "        2.82932204e+00,  1.52479031e+01,  3.77256220e+00,  1.58436488e+00,\n",
       "       -2.15310114e+00,  1.09927640e+01,  1.54862933e+01,  1.87722320e-01,\n",
       "        1.57070724e+00,  1.38346351e+01, -8.03270343e-01,  1.43179878e-01,\n",
       "        8.57745649e-01, -7.13733654e-01,  1.03449047e+00,  1.52475219e+01,\n",
       "        4.50501617e-01, -3.70355395e+00,  2.40657448e+00,  2.20346030e+00,\n",
       "        6.91031946e-01,  2.89122968e+00, -4.60112493e-01,  1.13455880e+01,\n",
       "       -1.58801162e+00, -2.40312364e+00,  1.51726519e+01, -3.69373632e+00,\n",
       "        1.08803476e+01, -2.60163881e-01,  3.83378807e-01,  1.22851519e+00,\n",
       "        1.39309303e+01,  3.16737656e+00, -8.08512068e-01, -1.94522868e+00,\n",
       "        1.56422413e+01,  1.14011931e+00,  1.28262417e-01,  1.71955932e+00,\n",
       "        1.30339761e+01,  1.00600771e+01,  1.63771312e+01,  1.41303891e+01,\n",
       "        3.42629311e-01,  1.43478352e-01,  1.24449611e+01,  2.46881018e+00,\n",
       "        1.01799642e+01,  3.04734547e+00,  2.34055944e+00,  3.43523472e+00,\n",
       "        1.48378935e+01,  1.21964928e+01])"
      ]
     },
     "execution_count": 67,
     "metadata": {},
     "output_type": "execute_result"
    }
   ],
   "source": [
    "ytrain_pred = lm.predict(xtrain)\n",
    "# ytrain_pred\n",
    "ytest_pred = lm.predict(xtest)\n",
    "# ytest_pred"
   ]
  },
  {
   "cell_type": "code",
   "execution_count": 69,
   "id": "b6afedf9-3e51-4a25-9d9b-10edcfc16a14",
   "metadata": {},
   "outputs": [],
   "source": [
    "data=(ytrain_pred, ytrain)\n",
    "# data\n",
    "data = (ytest_pred, ytest)"
   ]
  },
  {
   "cell_type": "code",
   "execution_count": 81,
   "id": "06657bd6-9ce3-4524-b27b-1198ffba6369",
   "metadata": {},
   "outputs": [
    {
     "data": {
      "image/png": "[encoded data removed]",
      "text/plain": [
       "<Figure size 640x480 with 1 Axes>"
      ]
     },
     "metadata": {},
     "output_type": "display_data"
    }
   ],
   "source": [
    "plt.scatter(ytrain, ytrain_pred, c='blue', marker='o', label=\"Training Data\")\n",
    "plt.scatter(ytest, ytest_pred, c='red', marker='p', label=\"Test Data\")\n",
    "plt.xlabel(\"True Values\")\n",
    "plt.ylabel(\"Predicted\")\n",
    "plt.title(\"True values vs Predicted values\")\n",
    "plt.legend(loc='lower right')\n",
    "plt.plot()\n",
    "plt.show()"
   ]
  },
  {
   "cell_type": "code",
   "execution_count": null,
   "id": "3a626a4e-9a14-4198-863e-4c3dd47ac5ab",
   "metadata": {},
   "outputs": [],
   "source": []
  },
  {
   "cell_type": "code",
   "execution_count": 26,
   "id": "5ab1e8ab-c020-4065-9478-b420795550bf",
   "metadata": {},
   "outputs": [
    {
     "data": {
      "image/png": "[encoded data removed]",
      "text/plain": [
       "<Figure size 640x480 with 4 Axes>"
      ]
     },
     "metadata": {},
     "output_type": "display_data"
    }
   ],
   "source": [
    "plt.subplot(2, 2, 1)\n",
    "plt.plot(x, y, color='red')\n",
    "\n",
    "plt.subplot(2, 2, 2)\n",
    "plt.boxplot(x)\n",
    "\n",
    "plt.subplot(2, 2, 3)\n",
    "# plt.pie([1], colors='red')\n",
    "plt.pie(x)\n",
    "\n",
    "plt.subplot(2, 2, 4)\n",
    "plt.bar(x, y)\n",
    "\n",
    "plt.show()"
   ]
  },
  {
   "cell_type": "code",
   "execution_count": null,
   "id": "3c8854e1-0273-459a-87a6-f6fa6840025c",
   "metadata": {},
   "outputs": [],
   "source": []
  }
 ],
 "metadata": {
  "kernelspec": {
   "display_name": "Python 3 (ipykernel)",
   "language": "python",
   "name": "python3"
  },
  "language_info": {
   "codemirror_mode": {
    "name": "ipython",
    "version": 3
   },
   "file_extension": ".py",
   "mimetype": "text/x-python",
   "name": "python",
   "nbconvert_exporter": "python",
   "pygments_lexer": "ipython3",
   "version": "3.12.1"
  }
 },
 "nbformat": 4,
 "nbformat_minor": 5
}
